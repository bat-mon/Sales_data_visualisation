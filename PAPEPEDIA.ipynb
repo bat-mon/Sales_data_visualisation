{
 "cells": [
  {
   "cell_type": "code",
   "execution_count": null,
   "id": "dadc7096",
   "metadata": {},
   "outputs": [],
   "source": [
    "import pandas as pd"
   ]
  },
  {
   "cell_type": "code",
   "execution_count": null,
   "id": "0e3e5e99",
   "metadata": {},
   "outputs": [],
   "source": [
    "import numpy as np\n",
    "import seaborn as sns\n",
    "import plotly.express as px"
   ]
  },
  {
   "cell_type": "code",
   "execution_count": null,
   "id": "5eeda6b6",
   "metadata": {},
   "outputs": [],
   "source": [
    "#Load the data\n",
    "df = pd.read_csv('train_pedia.csv')"
   ]
  },
  {
   "cell_type": "code",
   "execution_count": null,
   "id": "a0a0e32a",
   "metadata": {},
   "outputs": [],
   "source": [
    "#to get an idea of what the data is\n",
    "df.head(10)"
   ]
  },
  {
   "cell_type": "code",
   "execution_count": null,
   "id": "c8242375",
   "metadata": {},
   "outputs": [],
   "source": [
    "#Basic information regarding the dataset\n",
    "df.info()"
   ]
  },
  {
   "cell_type": "code",
   "execution_count": null,
   "id": "dc1cfa6f",
   "metadata": {},
   "outputs": [],
   "source": [
    "#Describtion of the data\n",
    "df.describe()"
   ]
  },
  {
   "cell_type": "code",
   "execution_count": null,
   "id": "5c660238",
   "metadata": {},
   "outputs": [],
   "source": [
    "#Find the duplicates\n",
    "df.duplicated().sum()"
   ]
  },
  {
   "cell_type": "code",
   "execution_count": null,
   "id": "ab82cde5",
   "metadata": {
    "scrolled": true
   },
   "outputs": [],
   "source": [
    "# using isnull() function  \n",
    "df.isna().sum()\n"
   ]
  },
  {
   "cell_type": "code",
   "execution_count": null,
   "id": "46a639d9",
   "metadata": {},
   "outputs": [],
   "source": [
    "#Heatmap regarding the missing values\n",
    "sns.heatmap(df.isnull(),yticklabels=False,cbar=False)"
   ]
  },
  {
   "cell_type": "code",
   "execution_count": null,
   "id": "3a555f04",
   "metadata": {},
   "outputs": [],
   "source": [
    "#Datatypes of each column\n",
    "df.dtypes"
   ]
  },
  {
   "cell_type": "code",
   "execution_count": null,
   "id": "c71045de",
   "metadata": {},
   "outputs": [],
   "source": [
    "#Correlation \n",
    "\n",
    "df.corr()"
   ]
  },
  {
   "cell_type": "code",
   "execution_count": null,
   "id": "db6705cc",
   "metadata": {},
   "outputs": [],
   "source": [
    "df.groupby(['Purchase','Occupation']).size().unstack()"
   ]
  },
  {
   "cell_type": "code",
   "execution_count": null,
   "id": "212cb27d",
   "metadata": {},
   "outputs": [],
   "source": [
    "df.head()"
   ]
  },
  {
   "cell_type": "code",
   "execution_count": null,
   "id": "9dbb6cfe",
   "metadata": {},
   "outputs": [],
   "source": [
    "df['Gender'] = df.Gender.astype('category')"
   ]
  },
  {
   "cell_type": "code",
   "execution_count": null,
   "id": "7f81d3c4",
   "metadata": {},
   "outputs": [],
   "source": [
    "df.dtypes"
   ]
  },
  {
   "cell_type": "code",
   "execution_count": null,
   "id": "17e3c543",
   "metadata": {},
   "outputs": [],
   "source": [
    "#Barplot showing Gender with respect to purchase\n",
    "sns.barplot(x=\"Gender\",y=\"Purchase\",data=df)\n",
    "plt.show()"
   ]
  },
  {
   "cell_type": "code",
   "execution_count": null,
   "id": "8d6c3e0f",
   "metadata": {},
   "outputs": [],
   "source": [
    "#Barplot showing Product Category 1 with respect to purchase\n",
    "sns.barplot(x=\"Product_Category_1\",y=\"Purchase\",data=df)\n",
    "plt.show()"
   ]
  },
  {
   "cell_type": "code",
   "execution_count": null,
   "id": "62c3f51a",
   "metadata": {},
   "outputs": [],
   "source": [
    "#Barplot showing Product Category 2 with respect to purchase\n",
    "sns.barplot(x=\"Product_Category_2\",y=\"Purchase\",data=df)\n",
    "plt.show()"
   ]
  },
  {
   "cell_type": "code",
   "execution_count": null,
   "id": "def20268",
   "metadata": {},
   "outputs": [],
   "source": [
    "#Barplot showing Product Category 3 with respect to purchase\n",
    "sns.barplot(x=\"Product_Category_3\",y=\"Purchase\",data=df)\n",
    "plt.show()"
   ]
  },
  {
   "cell_type": "code",
   "execution_count": null,
   "id": "f8b80241",
   "metadata": {},
   "outputs": [],
   "source": [
    "#Barplot showing Stay_In_Current_City_Years with respect to purchase\n",
    "bplot_stay=sns.barplot(x=\"Stay_In_Current_City_Years\",y=\"Purchase\",data=df)\n",
    "bplot_stay.bar_label(bplot_stay.containers[0])"
   ]
  },
  {
   "cell_type": "code",
   "execution_count": null,
   "id": "039befe7",
   "metadata": {},
   "outputs": [],
   "source": [
    "#Barplot showing Marital_Status with respect to purchase\n",
    "barplot_marstatus=sns.barplot(x=\"Marital_Status\",y=\"Purchase\",data=df)\n",
    "barplot_marstatus.bar_label(barplot_marstatus.containers[0])"
   ]
  },
  {
   "cell_type": "code",
   "execution_count": null,
   "id": "15ba7ca7",
   "metadata": {},
   "outputs": [],
   "source": [
    "#Barplot showing Age with respect to purchase\n",
    "sns.barplot(x=\"Age\",y=\"Purchase\",data=df)\n",
    "plt.show()"
   ]
  },
  {
   "cell_type": "code",
   "execution_count": null,
   "id": "71f5a98a",
   "metadata": {},
   "outputs": [],
   "source": [
    "#Barplot showing City_Category with respect to purchase\n",
    "barplot_marstatus=sns.barplot(x=\"City_Category\",y=\"Purchase\",data=df)"
   ]
  },
  {
   "cell_type": "code",
   "execution_count": null,
   "id": "404237fb",
   "metadata": {},
   "outputs": [],
   "source": [
    "df.describe()"
   ]
  },
  {
   "cell_type": "code",
   "execution_count": null,
   "id": "cb671334",
   "metadata": {},
   "outputs": [],
   "source": [
    "#Checking for outliers\n",
    "px.histogram(df, x='Purchase')"
   ]
  },
  {
   "cell_type": "code",
   "execution_count": null,
   "id": "13464ea7",
   "metadata": {},
   "outputs": [],
   "source": [
    "px.histogram(df, x='Stay_In_Current_City_Years')"
   ]
  },
  {
   "cell_type": "code",
   "execution_count": null,
   "id": "e0f1e335",
   "metadata": {},
   "outputs": [],
   "source": [
    "px.box(df, y=\"Stay_In_Current_City_Years\")"
   ]
  },
  {
   "cell_type": "code",
   "execution_count": null,
   "id": "2aeea91a",
   "metadata": {
    "scrolled": true
   },
   "outputs": [],
   "source": [
    "px.box(df, y=\"Purchase\")"
   ]
  },
  {
   "cell_type": "markdown",
   "id": "84a6b80d",
   "metadata": {},
   "source": [
    "As we can see there seems to be outliers in the column 'Purchase'"
   ]
  },
  {
   "cell_type": "code",
   "execution_count": null,
   "id": "8819f2d5",
   "metadata": {},
   "outputs": [],
   "source": [
    "df.describe()[\"Purchase\"]"
   ]
  },
  {
   "cell_type": "code",
   "execution_count": null,
   "id": "658c0c7c",
   "metadata": {},
   "outputs": [],
   "source": [
    "#Finding outliers using IQR\n",
    "def find_outliers_IQR(df):\n",
    "\n",
    "   q1=df.quantile(0.25)\n",
    "\n",
    "   q3=df.quantile(0.75)\n",
    "\n",
    "   IQR=q3-q1\n",
    "\n",
    "   outliers = df[((df<(q1-1.5*IQR)) | (df>(q3+1.5*IQR)))]\n",
    "\n",
    "   return outliers"
   ]
  },
  {
   "cell_type": "code",
   "execution_count": null,
   "id": "7ac13c6c",
   "metadata": {},
   "outputs": [],
   "source": [
    "outliers = find_outliers_IQR(df[\"Purchase\"])"
   ]
  },
  {
   "cell_type": "code",
   "execution_count": null,
   "id": "b1de6c42",
   "metadata": {
    "scrolled": true
   },
   "outputs": [],
   "source": [
    "outliers"
   ]
  },
  {
   "cell_type": "code",
   "execution_count": null,
   "id": "1e4ea97e",
   "metadata": {
    "scrolled": true
   },
   "outputs": [],
   "source": [
    "print(\"number of outliers:\"+ str(len(outliers)))\n",
    "print(\"max outlier value:\"+ str(outliers.max()))\n",
    "print(\"min outlier value:\"+ str(outliers.min()))"
   ]
  },
  {
   "cell_type": "code",
   "execution_count": null,
   "id": "d9e04d54",
   "metadata": {},
   "outputs": [],
   "source": [
    "def impute_outliers_IQR(df):\n",
    "   q1=df.quantile(0.25)\n",
    "   q3=df.quantile(0.75)\n",
    "   IQR=q3-q1\n",
    "   upper = df[~(df>(q3+1.5*IQR))].max()\n",
    "   lower = df[~(df<(q1-1.5*IQR))].min()\n",
    "   df = np.where(df > upper,\n",
    "       df.mean(),\n",
    "       np.where(\n",
    "           df < lower,\n",
    "           df.mean(),\n",
    "           df\n",
    "           )\n",
    "       )\n",
    "   return df"
   ]
  },
  {
   "cell_type": "code",
   "execution_count": null,
   "id": "c3db2557",
   "metadata": {},
   "outputs": [],
   "source": [
    "df[\"Purchase\"] = impute_outliers_IQR(df[\"Purchase\"])\n",
    "df.describe()[\"Purchase\"]"
   ]
  },
  {
   "cell_type": "code",
   "execution_count": null,
   "id": "8048a874",
   "metadata": {},
   "outputs": [],
   "source": [
    "#Creating Values for Pie charts\n",
    "def label_function(val):\n",
    "    return f'{val / 100 * len(df):.0f}\\n{val:.0f}%'"
   ]
  },
  {
   "cell_type": "code",
   "execution_count": null,
   "id": "39689989",
   "metadata": {
    "scrolled": true
   },
   "outputs": [],
   "source": [
    "#Creating Pie chart for City Category\n",
    "df.groupby('City_Category').size().plot(kind='pie', autopct=label_function, textprops={'fontsize': 20},\n",
    "                                  colors=['red', 'yellow', 'lightblue'])"
   ]
  },
  {
   "cell_type": "code",
   "execution_count": null,
   "id": "d570be69",
   "metadata": {},
   "outputs": [],
   "source": [
    "#Correlation map\n",
    "import matplotlib.pyplot as mp\n",
    "import pandas as pd\n",
    "import seaborn as sb\n",
    "print(df.corr())\n",
    "  \n",
    "# plotting correlation heatmap\n",
    "dataplot = sb.heatmap(df.corr(), cmap=\"YlGnBu\", annot=True)\n",
    "  \n",
    "# displaying heatmap\n",
    "mp.show()"
   ]
  },
  {
   "cell_type": "markdown",
   "id": "a7b0512f",
   "metadata": {},
   "source": [
    "MODEL CREATION"
   ]
  },
  {
   "cell_type": "code",
   "execution_count": null,
   "id": "793a2e2c",
   "metadata": {
    "scrolled": true
   },
   "outputs": [],
   "source": [
    "import pandas as pd\n",
    "from sklearn.model_selection import train_test_split\n",
    "from sklearn.linear_model import LinearRegression\n",
    "from sklearn.metrics import mean_squared_error\n",
    "df.head()"
   ]
  },
  {
   "cell_type": "code",
   "execution_count": null,
   "id": "1758be1f",
   "metadata": {},
   "outputs": [],
   "source": [
    "df1=df[df.columns.difference([\"User_ID\",\"Product_ID\"])]"
   ]
  },
  {
   "cell_type": "code",
   "execution_count": null,
   "id": "5100db16",
   "metadata": {},
   "outputs": [],
   "source": [
    "df2_train=df1.fillna(0)"
   ]
  },
  {
   "cell_type": "code",
   "execution_count": null,
   "id": "b9b5b6a3",
   "metadata": {},
   "outputs": [],
   "source": [
    "df2_train.head(5)"
   ]
  },
  {
   "cell_type": "code",
   "execution_count": null,
   "id": "667c2e58",
   "metadata": {},
   "outputs": [],
   "source": [
    "df_test=pd.read_csv('pap_test.csv')"
   ]
  },
  {
   "cell_type": "code",
   "execution_count": null,
   "id": "a47d9aa1",
   "metadata": {},
   "outputs": [],
   "source": [
    "df_test.head(10)"
   ]
  },
  {
   "cell_type": "code",
   "execution_count": null,
   "id": "46a889b7",
   "metadata": {},
   "outputs": [],
   "source": [
    "# using isnull() function  \n",
    "df_test.isna().sum()\n"
   ]
  },
  {
   "cell_type": "code",
   "execution_count": null,
   "id": "4b0094d2",
   "metadata": {},
   "outputs": [],
   "source": [
    "df_test.dtypes\n"
   ]
  },
  {
   "cell_type": "code",
   "execution_count": null,
   "id": "642b4ae0",
   "metadata": {},
   "outputs": [],
   "source": [
    "df_test=df_test.fillna(0)"
   ]
  },
  {
   "cell_type": "code",
   "execution_count": null,
   "id": "3f29aa4c",
   "metadata": {},
   "outputs": [],
   "source": [
    "df1_test=df[df.columns.difference([\"Product_ID\"])]"
   ]
  },
  {
   "cell_type": "code",
   "execution_count": null,
   "id": "23726e9b",
   "metadata": {},
   "outputs": [],
   "source": [
    "df_test.isna().sum()"
   ]
  },
  {
   "cell_type": "code",
   "execution_count": null,
   "id": "13361d21",
   "metadata": {},
   "outputs": [],
   "source": [
    "df_test['Product_Category_1'] = df_test.Product_Category_1.astype('category')\n",
    "df_test['Product_Category_2'] = df_test.Product_Category_2.astype('category')\n",
    "df_test['Product_Category_3'] = df_test.Product_Category_3.astype('category')"
   ]
  },
  {
   "cell_type": "code",
   "execution_count": null,
   "id": "cc51f07c",
   "metadata": {
    "scrolled": true
   },
   "outputs": [],
   "source": [
    "df_test\n"
   ]
  },
  {
   "cell_type": "code",
   "execution_count": null,
   "id": "cdc03108",
   "metadata": {},
   "outputs": [],
   "source": [
    "df1_test.max()"
   ]
  },
  {
   "cell_type": "code",
   "execution_count": null,
   "id": "143d0024",
   "metadata": {},
   "outputs": [],
   "source": []
  },
  {
   "cell_type": "code",
   "execution_count": null,
   "id": "0e8f4ee6",
   "metadata": {},
   "outputs": [],
   "source": [
    "# Select relevant features for predicting customer spending\n",
    "features = ['Age', 'City_Category', 'Marital_Status','Product_Category_1','Product_Category_2','Product_Category_2',\n",
    "           'Stay_In_Current_City_Years']"
   ]
  },
  {
   "cell_type": "code",
   "execution_count": null,
   "id": "9ebef6cc",
   "metadata": {},
   "outputs": [],
   "source": []
  },
  {
   "cell_type": "code",
   "execution_count": null,
   "id": "1afe4bfb",
   "metadata": {},
   "outputs": [],
   "source": []
  }
 ],
 "metadata": {
  "kernelspec": {
   "display_name": "Python 3 (ipykernel)",
   "language": "python",
   "name": "python3"
  },
  "language_info": {
   "codemirror_mode": {
    "name": "ipython",
    "version": 3
   },
   "file_extension": ".py",
   "mimetype": "text/x-python",
   "name": "python",
   "nbconvert_exporter": "python",
   "pygments_lexer": "ipython3",
   "version": "3.10.11"
  }
 },
 "nbformat": 4,
 "nbformat_minor": 5
}
